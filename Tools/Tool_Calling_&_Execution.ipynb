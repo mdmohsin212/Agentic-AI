{
  "cells": [
    {
      "cell_type": "code",
      "execution_count": 2,
      "metadata": {
        "id": "PY5c8s7CJ9eT"
      },
      "outputs": [],
      "source": [
        "from langchain_openai import ChatOpenAI\n",
        "from langchain_core.tools import tool\n",
        "from langchain_core.messages import HumanMessage\n",
        "import requests"
      ]
    },
    {
      "cell_type": "code",
      "execution_count": 16,
      "metadata": {
        "id": "Ubxa_SzJKe3b"
      },
      "outputs": [],
      "source": [
        "# Create tool\n",
        "\n",
        "@tool\n",
        "def multiply(a : int , b : int) -> int:\n",
        "    \"\"\"Given 2 number a and b this tool returns their product value\"\"\"\n",
        "    return a * b"
      ]
    },
    {
      "cell_type": "code",
      "execution_count": 17,
      "metadata": {
        "colab": {
          "base_uri": "https://localhost:8080/"
        },
        "id": "CjBgDx77Kxad",
        "outputId": "fb384fe9-5a26-4c3d-e4fc-dcfde6fd2518"
      },
      "outputs": [
        {
          "name": "stdout",
          "output_type": "stream",
          "text": [
            "50\n"
          ]
        }
      ],
      "source": [
        "print(multiply.invoke({\"a\" : 10, \"b\" : 5}))"
      ]
    },
    {
      "cell_type": "code",
      "execution_count": 18,
      "metadata": {
        "colab": {
          "base_uri": "https://localhost:8080/",
          "height": 35
        },
        "id": "uGGlFqvgK2bg",
        "outputId": "ba3f99fa-dac7-48e8-a660-8d926840273c"
      },
      "outputs": [
        {
          "data": {
            "application/vnd.google.colaboratory.intrinsic+json": {
              "type": "string"
            },
            "text/plain": [
              "'multiply'"
            ]
          },
          "execution_count": 18,
          "metadata": {},
          "output_type": "execute_result"
        }
      ],
      "source": [
        "multiply.name"
      ]
    },
    {
      "cell_type": "code",
      "execution_count": 19,
      "metadata": {
        "colab": {
          "base_uri": "https://localhost:8080/"
        },
        "id": "-RccWAkYK40a",
        "outputId": "d958dcc0-e5ec-4ab1-b4ae-b5b1dfbfc446"
      },
      "outputs": [
        {
          "name": "stdout",
          "output_type": "stream",
          "text": [
            "Given 2 number a and b this tool returns their product value\n",
            "{'a': {'title': 'A', 'type': 'integer'}, 'b': {'title': 'B', 'type': 'integer'}}\n"
          ]
        }
      ],
      "source": [
        "print(multiply.description)\n",
        "print(multiply.args)"
      ]
    },
    {
      "cell_type": "code",
      "execution_count": 14,
      "metadata": {
        "id": "blC5vRhcK-QF"
      },
      "outputs": [],
      "source": [
        "# Tool binding\n",
        "\n",
        "llm = ChatOpenAI(api_key=\"API_KEY\")"
      ]
    },
    {
      "cell_type": "code",
      "execution_count": null,
      "metadata": {
        "id": "L3nzbyrSMTEP"
      },
      "outputs": [],
      "source": [
        "llm_with_tools = llm.bind_tools([multiply])"
      ]
    },
    {
      "cell_type": "code",
      "execution_count": null,
      "metadata": {
        "id": "2H94r0iEMoDz"
      },
      "outputs": [],
      "source": [
        "llm_with_tools.invoke(\"can you multiply 3 with 10\")"
      ]
    },
    {
      "cell_type": "code",
      "execution_count": null,
      "metadata": {
        "id": "AeTBOmQANY-3"
      },
      "outputs": [],
      "source": [
        "results = llm_with_tools.invoke(\"can you multiply 3 with 10\").tool_calls[0]"
      ]
    },
    {
      "cell_type": "markdown",
      "metadata": {
        "id": "k5Fz94bXQTyB"
      },
      "source": [
        "##### Tool Execution"
      ]
    },
    {
      "cell_type": "code",
      "execution_count": null,
      "metadata": {
        "id": "tgzXQ1xmQZs6"
      },
      "outputs": [],
      "source": [
        "results.tool_calls[0]"
      ]
    },
    {
      "cell_type": "code",
      "execution_count": null,
      "metadata": {
        "id": "HHowDmPmQpYr"
      },
      "outputs": [],
      "source": [
        "results.tool_calls[0]['args']"
      ]
    },
    {
      "cell_type": "code",
      "execution_count": null,
      "metadata": {
        "id": "s2PsWRFwQrhL"
      },
      "outputs": [],
      "source": [
        "query =  HumanMessage(\"Can you multiply 3 with 10\")"
      ]
    },
    {
      "cell_type": "code",
      "execution_count": null,
      "metadata": {
        "id": "Zz1CgiDaR_Dr"
      },
      "outputs": [],
      "source": [
        "messages = [query]"
      ]
    },
    {
      "cell_type": "code",
      "execution_count": null,
      "metadata": {
        "id": "udJQHQCCSBuT"
      },
      "outputs": [],
      "source": [
        "messages.append(results)"
      ]
    },
    {
      "cell_type": "code",
      "execution_count": null,
      "metadata": {
        "id": "8dqfHSpgSNTv"
      },
      "outputs": [],
      "source": [
        "tool_result = multiply.invoke(results.tool_calls[0])"
      ]
    },
    {
      "cell_type": "code",
      "execution_count": null,
      "metadata": {
        "id": "1BVEtRgsSVT1"
      },
      "outputs": [],
      "source": [
        "tool_result"
      ]
    },
    {
      "cell_type": "code",
      "execution_count": null,
      "metadata": {
        "id": "ZYSRQYlQSYK1"
      },
      "outputs": [],
      "source": [
        "messages.append(tool_result)"
      ]
    },
    {
      "cell_type": "code",
      "execution_count": null,
      "metadata": {
        "id": "zRC8hkSUSfee"
      },
      "outputs": [],
      "source": [
        "messages"
      ]
    },
    {
      "cell_type": "code",
      "execution_count": null,
      "metadata": {
        "id": "aUqTjMY2SpXP"
      },
      "outputs": [],
      "source": [
        "llm_with_tools.invoke(messages).content"
      ]
    }
  ],
  "metadata": {
    "colab": {
      "provenance": []
    },
    "kernelspec": {
      "display_name": "Python 3",
      "name": "python3"
    },
    "language_info": {
      "name": "python",
      "version": "3.12.6"
    }
  },
  "nbformat": 4,
  "nbformat_minor": 0
}

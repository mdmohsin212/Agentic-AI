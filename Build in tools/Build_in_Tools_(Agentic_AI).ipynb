{
  "nbformat": 4,
  "nbformat_minor": 0,
  "metadata": {
    "colab": {
      "provenance": []
    },
    "kernelspec": {
      "name": "python3",
      "display_name": "Python 3"
    },
    "language_info": {
      "name": "python"
    }
  },
  "cells": [
    {
      "cell_type": "code",
      "execution_count": 14,
      "metadata": {
        "colab": {
          "base_uri": "https://localhost:8080/"
        },
        "id": "VHaEUOYUMI26",
        "outputId": "7b341ea0-5ba1-4317-a97a-f2369fcbafde"
      },
      "outputs": [
        {
          "output_type": "stream",
          "name": "stdout",
          "text": [
            "\u001b[?25l   \u001b[90m━━━━━━━━━━━━━━━━━━━━━━━━━━━━━━━━━━━━━━━━\u001b[0m \u001b[32m0.0/209.2 kB\u001b[0m \u001b[31m?\u001b[0m eta \u001b[36m-:--:--\u001b[0m\r\u001b[2K   \u001b[91m━━━━━━━━━━━━━━━━━━━\u001b[0m\u001b[91m╸\u001b[0m\u001b[90m━━━━━━━━━━━━━━━━━━━━\u001b[0m \u001b[32m102.4/209.2 kB\u001b[0m \u001b[31m2.9 MB/s\u001b[0m eta \u001b[36m0:00:01\u001b[0m\r\u001b[2K   \u001b[90m━━━━━━━━━━━━━━━━━━━━━━━━━━━━━━━━━━━━━━━━\u001b[0m \u001b[32m209.2/209.2 kB\u001b[0m \u001b[31m3.6 MB/s\u001b[0m eta \u001b[36m0:00:00\u001b[0m\n",
            "\u001b[?25h"
          ]
        }
      ],
      "source": [
        "!pip install -q -U langchain_community langchain_core langchain ddgs langchain-experimental"
      ]
    },
    {
      "cell_type": "markdown",
      "source": [
        "#### Build In tools"
      ],
      "metadata": {
        "id": "rQ4yhY0JMu6K"
      }
    },
    {
      "cell_type": "code",
      "source": [
        "# DuckDuckGoSearchRun()\n",
        "\n",
        "from langchain_community.tools import DuckDuckGoSearchRun\n",
        "\n",
        "search_tool = DuckDuckGoSearchRun()\n",
        "\n",
        "results = search_tool.invoke(\"Bangladesh vs netherlands 3rd t20\")\n",
        "\n",
        "print(results)"
      ],
      "metadata": {
        "colab": {
          "base_uri": "https://localhost:8080/"
        },
        "id": "vxkKg2rBMsqH",
        "outputId": "66308549-0ef0-453c-94ab-7ba1814f2e27"
      },
      "execution_count": 11,
      "outputs": [
        {
          "output_type": "stream",
          "name": "stdout",
          "text": [
            "2 days ago - None of that mattered in the end, and the no-result meant Bangladesh took the series 2-0 , Netherlands' consolation coming from avoiding a clean sweep. With the series already sealed, Bangladesh looked at the opportunity to rotate their players ahead of next week's Men's T20 Asia Cup. 2 days ago - Right then, that’s all we have from this game. The match has been abandoned due to rain, and Bangladesh have clinched the series 2-0 . The Netherlands side will take a break from cricket, while Bangladesh advances to the Asia Cup, where they open against Hong Kong on 11 September at 2.30 pm GMT. 2 days ago · Bangladesh Vs Netherlands Live Score, 3rd T20I: After only 18.2 overs, in which Bangladesh scored 164/4, the final Twenty20 International between their opponents and Bangladesh was called off due ... 1 day ago · Match abandoned Bangladesh 164 for 4 (Litton 73, Nurul 22*, Klein 3-53) vs Netherlands Scott Edwards finally won the toss and wanted Netherlands ' bowlers to, for once, bowl without dew around. Catch live and fully detailed scorecard of Bangladesh vs Netherlands , 3rd T20I, Sep 03, Netherlands tour of Bangladesh 2025 on Cricbuzz\n"
          ]
        }
      ]
    },
    {
      "cell_type": "code",
      "source": [
        "print(search_tool.name)"
      ],
      "metadata": {
        "colab": {
          "base_uri": "https://localhost:8080/"
        },
        "id": "RRKIxSGiNJAp",
        "outputId": "52b003ea-0a4a-4776-a850-8f8ac7ebe283"
      },
      "execution_count": 9,
      "outputs": [
        {
          "output_type": "stream",
          "name": "stdout",
          "text": [
            "duckduckgo_search\n"
          ]
        }
      ]
    },
    {
      "cell_type": "code",
      "source": [
        "print(search_tool.description)"
      ],
      "metadata": {
        "colab": {
          "base_uri": "https://localhost:8080/"
        },
        "id": "4KevZ5dMOG40",
        "outputId": "8fdbd49b-7608-4520-c982-25e0bd457558"
      },
      "execution_count": 10,
      "outputs": [
        {
          "output_type": "stream",
          "name": "stdout",
          "text": [
            "A wrapper around DuckDuckGo Search. Useful for when you need to answer questions about current events. Input should be a search query.\n"
          ]
        }
      ]
    },
    {
      "cell_type": "code",
      "source": [
        "print(search_tool.args)"
      ],
      "metadata": {
        "colab": {
          "base_uri": "https://localhost:8080/"
        },
        "id": "e9WeAXm0OKR2",
        "outputId": "d23e2192-2513-44da-dc86-cf5de35ca6b6"
      },
      "execution_count": 12,
      "outputs": [
        {
          "output_type": "stream",
          "name": "stdout",
          "text": [
            "{'query': {'description': 'search query to look up', 'title': 'Query', 'type': 'string'}}\n"
          ]
        }
      ]
    },
    {
      "cell_type": "code",
      "source": [
        "# ShellTool()\n",
        "\n",
        "from langchain_community.tools import ShellTool\n",
        "\n",
        "shell_tool = ShellTool()\n",
        "\n",
        "results = shell_tool.invoke('mkdir random')\n",
        "\n",
        "print(results)"
      ],
      "metadata": {
        "colab": {
          "base_uri": "https://localhost:8080/"
        },
        "id": "9MtjhobdOUHM",
        "outputId": "655b8dc6-e33b-4ede-b788-2f0ba4902d01"
      },
      "execution_count": 16,
      "outputs": [
        {
          "output_type": "stream",
          "name": "stdout",
          "text": [
            "Executing command:\n",
            " mkdir random\n",
            "\n"
          ]
        },
        {
          "output_type": "stream",
          "name": "stderr",
          "text": [
            "/usr/local/lib/python3.12/dist-packages/langchain_community/tools/shell/tool.py:33: UserWarning: The shell tool has no safeguards by default. Use at your own risk.\n",
            "  warnings.warn(\n"
          ]
        }
      ]
    }
  ]
}
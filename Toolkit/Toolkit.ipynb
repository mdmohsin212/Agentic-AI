{
  "nbformat": 4,
  "nbformat_minor": 0,
  "metadata": {
    "colab": {
      "provenance": []
    },
    "kernelspec": {
      "name": "python3",
      "display_name": "Python 3"
    },
    "language_info": {
      "name": "python"
    }
  },
  "cells": [
    {
      "cell_type": "code",
      "execution_count": 1,
      "metadata": {
        "id": "DYFzy1w3HpkD"
      },
      "outputs": [],
      "source": [
        "from langchain_core.tools import tool"
      ]
    },
    {
      "cell_type": "code",
      "source": [
        "@tool\n",
        "def add(a : int, b : int) -> int:\n",
        "    \"\"\"Add two number \"\"\"\n",
        "    return a + b\n",
        "\n",
        "@tool\n",
        "def multiply(a : int, b : int) -> int:\n",
        "    \"\"\"Multiply two number\"\"\"\n",
        "    return a * b"
      ],
      "metadata": {
        "id": "i1JJH-m9Hw00"
      },
      "execution_count": 2,
      "outputs": []
    },
    {
      "cell_type": "code",
      "source": [
        "add.args_schema.model_json_schema()"
      ],
      "metadata": {
        "colab": {
          "base_uri": "https://localhost:8080/"
        },
        "id": "WQ0L-8YfIFnJ",
        "outputId": "e3eec6be-cc14-4ca5-c989-0da5dbab34a8"
      },
      "execution_count": 4,
      "outputs": [
        {
          "output_type": "execute_result",
          "data": {
            "text/plain": [
              "{'description': 'Add two number',\n",
              " 'properties': {'a': {'title': 'A', 'type': 'integer'},\n",
              "  'b': {'title': 'B', 'type': 'integer'}},\n",
              " 'required': ['a', 'b'],\n",
              " 'title': 'add',\n",
              " 'type': 'object'}"
            ]
          },
          "metadata": {},
          "execution_count": 4
        }
      ]
    },
    {
      "cell_type": "code",
      "source": [
        "class MathTookKit:\n",
        "    def get_tool(self):\n",
        "        return [add, multiply]"
      ],
      "metadata": {
        "id": "u0eFwEQVIKPz"
      },
      "execution_count": 5,
      "outputs": []
    },
    {
      "cell_type": "code",
      "source": [
        "toolkit = MathTookKit()\n",
        "tools = toolkit.get_tool()\n",
        "\n",
        "for tool in tools:\n",
        "    print(tool.name, \" -> \", tool.description)"
      ],
      "metadata": {
        "colab": {
          "base_uri": "https://localhost:8080/"
        },
        "id": "soHRpVDpIVsq",
        "outputId": "ef7aecbc-75d7-449b-f34c-833d947312cb"
      },
      "execution_count": 7,
      "outputs": [
        {
          "output_type": "stream",
          "name": "stdout",
          "text": [
            "add  ->  Add two number\n",
            "multiply  ->  Multiply two number\n"
          ]
        }
      ]
    }
  ]
}

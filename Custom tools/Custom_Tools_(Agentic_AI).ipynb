{
  "nbformat": 4,
  "nbformat_minor": 0,
  "metadata": {
    "colab": {
      "provenance": []
    },
    "kernelspec": {
      "name": "python3",
      "display_name": "Python 3"
    },
    "language_info": {
      "name": "python"
    }
  },
  "cells": [
    {
      "cell_type": "code",
      "execution_count": null,
      "metadata": {
        "id": "ED1iTda1P0V-"
      },
      "outputs": [],
      "source": [
        "!pip install -q -U langchain_community langchain_core langchain ddgs langchain-experimental"
      ]
    },
    {
      "cell_type": "markdown",
      "source": [
        "## Method 1\n",
        "\n",
        "#### @tool"
      ],
      "metadata": {
        "id": "BBViVFeZQF2X"
      }
    },
    {
      "cell_type": "code",
      "source": [
        "from langchain_core.tools import tool"
      ],
      "metadata": {
        "id": "i3X-ag35P-KN"
      },
      "execution_count": 2,
      "outputs": []
    },
    {
      "cell_type": "code",
      "source": [
        "# Step 1 -> Create function\n",
        "\n",
        "def multiply(a, b):\n",
        "    \"\"\"Multiply two numbers\"\"\"\n",
        "    return a * b"
      ],
      "metadata": {
        "id": "9pisKW4lQX5k"
      },
      "execution_count": 6,
      "outputs": []
    },
    {
      "cell_type": "code",
      "source": [
        "# Step 2 - Adding type hints\n",
        "\n",
        "def multiply(a : int , b : int) -> int:\n",
        "    \"\"\"Multiply two numbers\"\"\"\n",
        "    return a * b"
      ],
      "metadata": {
        "id": "sr9t152wQkIK"
      },
      "execution_count": 7,
      "outputs": []
    },
    {
      "cell_type": "code",
      "source": [
        "# Step 3 - Adding tools decorator\n",
        "\n",
        "@tool\n",
        "def multiply(a : int , b : int) -> int:\n",
        "    \"\"\"Tool take 2 integers and multiplies them\"\"\"\n",
        "    return a * b"
      ],
      "metadata": {
        "id": "TvJ8--gBQykD"
      },
      "execution_count": 16,
      "outputs": []
    },
    {
      "cell_type": "code",
      "source": [
        "results = multiply.invoke({\"a\" : 5, \"b\" : 2})"
      ],
      "metadata": {
        "id": "n3yj-b3sQ5cH"
      },
      "execution_count": 17,
      "outputs": []
    },
    {
      "cell_type": "code",
      "source": [
        "print(results)"
      ],
      "metadata": {
        "colab": {
          "base_uri": "https://localhost:8080/"
        },
        "id": "gAt_DN-xRIu4",
        "outputId": "ec96ef7a-a56a-48f1-f823-3eb3926bf4ed"
      },
      "execution_count": 18,
      "outputs": [
        {
          "output_type": "stream",
          "name": "stdout",
          "text": [
            "10\n"
          ]
        }
      ]
    },
    {
      "cell_type": "code",
      "source": [
        "print(multiply.name)\n",
        "print(multiply.description)\n",
        "print(multiply.args)"
      ],
      "metadata": {
        "colab": {
          "base_uri": "https://localhost:8080/"
        },
        "id": "JOMWYmC7RRue",
        "outputId": "c3115843-6302-457b-8d2b-227899b13444"
      },
      "execution_count": 19,
      "outputs": [
        {
          "output_type": "stream",
          "name": "stdout",
          "text": [
            "multiply\n",
            "Tool take 2 integers and multiplies them\n",
            "{'a': {'title': 'A', 'type': 'integer'}, 'b': {'title': 'B', 'type': 'integer'}}\n"
          ]
        }
      ]
    },
    {
      "cell_type": "code",
      "source": [
        "multiply.args_schema.model_json_schema()"
      ],
      "metadata": {
        "colab": {
          "base_uri": "https://localhost:8080/"
        },
        "id": "qCdVlbApRWLQ",
        "outputId": "35ab8747-65b9-4357-c66d-b6558b5b2f96"
      },
      "execution_count": 20,
      "outputs": [
        {
          "output_type": "execute_result",
          "data": {
            "text/plain": [
              "{'description': 'Tool take 2 integers and multiplies them',\n",
              " 'properties': {'a': {'title': 'A', 'type': 'integer'},\n",
              "  'b': {'title': 'B', 'type': 'integer'}},\n",
              " 'required': ['a', 'b'],\n",
              " 'title': 'multiply',\n",
              " 'type': 'object'}"
            ]
          },
          "metadata": {},
          "execution_count": 20
        }
      ]
    },
    {
      "cell_type": "markdown",
      "source": [
        "## Method 2\n",
        "\n",
        "#### StructuredTool & Pydantic"
      ],
      "metadata": {
        "id": "SqPbFV64ScpW"
      }
    },
    {
      "cell_type": "code",
      "source": [
        "from langchain.tools import StructuredTool\n",
        "from pydantic import BaseModel, Field"
      ],
      "metadata": {
        "id": "BCA9_DHFRyGp"
      },
      "execution_count": 21,
      "outputs": []
    },
    {
      "cell_type": "code",
      "source": [
        "class Multiplyinput(BaseModel):\n",
        "    a : int = Field(required=True, description=\"The first number\")\n",
        "    b : int = Field(required=True, description=\"The second number\")"
      ],
      "metadata": {
        "id": "PZSgPC8dTSoS"
      },
      "execution_count": 23,
      "outputs": []
    },
    {
      "cell_type": "code",
      "source": [
        "def multiply_func(a : int, b : int) -> int:\n",
        "    return a * b"
      ],
      "metadata": {
        "id": "K5gPUdAFTtW6"
      },
      "execution_count": 24,
      "outputs": []
    },
    {
      "cell_type": "code",
      "source": [
        "multiply_tool = StructuredTool.from_function(\n",
        "    func=multiply_func,\n",
        "    name=\"multiply\",\n",
        "    description=\"Multipy Two numbers\",\n",
        "    args_schema=Multiplyinput\n",
        ")"
      ],
      "metadata": {
        "id": "iYVNwGqmT6zS"
      },
      "execution_count": 25,
      "outputs": []
    },
    {
      "cell_type": "code",
      "source": [
        "results = multiply_tool.invoke({\"a\" : 10, \"b\" : 5})\n",
        "print(results)"
      ],
      "metadata": {
        "colab": {
          "base_uri": "https://localhost:8080/"
        },
        "id": "ub_NutQ5UK_8",
        "outputId": "eb1f5b8e-167b-48a1-eeaa-89e908279773"
      },
      "execution_count": 26,
      "outputs": [
        {
          "output_type": "stream",
          "name": "stdout",
          "text": [
            "50\n"
          ]
        }
      ]
    },
    {
      "cell_type": "code",
      "source": [
        "print(multiply_tool.name)\n",
        "print(multiply_tool.description)\n",
        "print(multiply_tool.args)"
      ],
      "metadata": {
        "colab": {
          "base_uri": "https://localhost:8080/"
        },
        "id": "sXbVKKoSURq4",
        "outputId": "50b2c398-ac82-476f-d683-bed05733840f"
      },
      "execution_count": 27,
      "outputs": [
        {
          "output_type": "stream",
          "name": "stdout",
          "text": [
            "multiply\n",
            "Multipy Two numbers\n",
            "{'a': {'description': 'The first number', 'required': True, 'title': 'A', 'type': 'integer'}, 'b': {'description': 'The second number', 'required': True, 'title': 'B', 'type': 'integer'}}\n"
          ]
        }
      ]
    },
    {
      "cell_type": "code",
      "source": [
        "multiply_tool.args_schema.model_json_schema()"
      ],
      "metadata": {
        "colab": {
          "base_uri": "https://localhost:8080/"
        },
        "id": "wlISZ51vUW4L",
        "outputId": "3c71cea5-714d-4038-efdc-776ef548fbea"
      },
      "execution_count": 28,
      "outputs": [
        {
          "output_type": "execute_result",
          "data": {
            "text/plain": [
              "{'properties': {'a': {'description': 'The first number',\n",
              "   'required': True,\n",
              "   'title': 'A',\n",
              "   'type': 'integer'},\n",
              "  'b': {'description': 'The second number',\n",
              "   'required': True,\n",
              "   'title': 'B',\n",
              "   'type': 'integer'}},\n",
              " 'required': ['a', 'b'],\n",
              " 'title': 'Multiplyinput',\n",
              " 'type': 'object'}"
            ]
          },
          "metadata": {},
          "execution_count": 28
        }
      ]
    },
    {
      "cell_type": "markdown",
      "source": [
        "## Method 3\n",
        "\n",
        "#### BaseTool"
      ],
      "metadata": {
        "id": "RUtgJmT5UmZk"
      }
    },
    {
      "cell_type": "code",
      "source": [
        "from langchain.tools import BaseTool\n",
        "from typing import Type"
      ],
      "metadata": {
        "id": "PfAVO6XgUbFO"
      },
      "execution_count": 29,
      "outputs": []
    },
    {
      "cell_type": "code",
      "source": [
        "class Multiplyinput(BaseModel):\n",
        "    a : int = Field(required=True, description=\"The first number\")\n",
        "    b : int = Field(required=True, description=\"The second number\")"
      ],
      "metadata": {
        "id": "Bejj6T2xVPLc"
      },
      "execution_count": 30,
      "outputs": []
    },
    {
      "cell_type": "code",
      "source": [
        "class MultiplyTool(BaseTool):\n",
        "    name : str = \"multiply number\"\n",
        "    description : str = \"Multiply two numbers\"\n",
        "\n",
        "    args_schema: Type[BaseModel] = Multiplyinput\n",
        "\n",
        "    def _run(self, a : int, b : int) -> int:\n",
        "        return a * b"
      ],
      "metadata": {
        "id": "VpfY_YBuVX6C"
      },
      "execution_count": 36,
      "outputs": []
    },
    {
      "cell_type": "code",
      "source": [
        "multiply_tool = MultiplyTool()"
      ],
      "metadata": {
        "id": "ruYg1GdmV7E3"
      },
      "execution_count": 37,
      "outputs": []
    },
    {
      "cell_type": "code",
      "source": [
        "results = multiply_tool.invoke({\"a\" : 100, \"b\" : 5})\n",
        "print(results)"
      ],
      "metadata": {
        "colab": {
          "base_uri": "https://localhost:8080/"
        },
        "id": "xmOLO5S7V-xJ",
        "outputId": "91c7b572-df55-4a65-f12a-dde518c70ccf"
      },
      "execution_count": 38,
      "outputs": [
        {
          "output_type": "stream",
          "name": "stdout",
          "text": [
            "500\n"
          ]
        }
      ]
    },
    {
      "cell_type": "code",
      "source": [
        "print(multiply_tool.name)\n",
        "print(multiply_tool.description)\n",
        "print(multiply_tool.args)"
      ],
      "metadata": {
        "colab": {
          "base_uri": "https://localhost:8080/"
        },
        "id": "JNPkkBRlWBjj",
        "outputId": "7f31be72-925d-45a8-e959-c3f2af230f21"
      },
      "execution_count": 39,
      "outputs": [
        {
          "output_type": "stream",
          "name": "stdout",
          "text": [
            "multiply number\n",
            "Multiply two numbers\n",
            "{'a': {'description': 'The first number', 'required': True, 'title': 'A', 'type': 'integer'}, 'b': {'description': 'The second number', 'required': True, 'title': 'B', 'type': 'integer'}}\n"
          ]
        }
      ]
    },
    {
      "cell_type": "code",
      "source": [
        "multiply_tool.args_schema.model_json_schema()"
      ],
      "metadata": {
        "colab": {
          "base_uri": "https://localhost:8080/"
        },
        "id": "92ifwV_MWDus",
        "outputId": "dcce132a-65e8-456e-fd78-8be0ca879b57"
      },
      "execution_count": 40,
      "outputs": [
        {
          "output_type": "execute_result",
          "data": {
            "text/plain": [
              "{'properties': {'a': {'description': 'The first number',\n",
              "   'required': True,\n",
              "   'title': 'A',\n",
              "   'type': 'integer'},\n",
              "  'b': {'description': 'The second number',\n",
              "   'required': True,\n",
              "   'title': 'B',\n",
              "   'type': 'integer'}},\n",
              " 'required': ['a', 'b'],\n",
              " 'title': 'Multiplyinput',\n",
              " 'type': 'object'}"
            ]
          },
          "metadata": {},
          "execution_count": 40
        }
      ]
    }
  ]
}
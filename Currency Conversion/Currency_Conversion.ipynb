{
  "nbformat": 4,
  "nbformat_minor": 0,
  "metadata": {
    "colab": {
      "provenance": []
    },
    "kernelspec": {
      "name": "python3",
      "display_name": "Python 3"
    },
    "language_info": {
      "name": "python"
    }
  },
  "cells": [
    {
      "cell_type": "code",
      "source": [
        "!pip install -q -U langchain_community langchain_core langchain langgraph"
      ],
      "metadata": {
        "colab": {
          "base_uri": "https://localhost:8080/"
        },
        "id": "iujfFtz6DSUH",
        "outputId": "1e060931-c16c-499c-efb8-cc4df22885ae"
      },
      "execution_count": 28,
      "outputs": [
        {
          "output_type": "stream",
          "name": "stdout",
          "text": [
            "\u001b[2K     \u001b[90m━━━━━━━━━━━━━━━━━━━━━━━━━━━━━━━━━━━━━━━━\u001b[0m \u001b[32m43.7/43.7 kB\u001b[0m \u001b[31m2.7 MB/s\u001b[0m eta \u001b[36m0:00:00\u001b[0m\n",
            "\u001b[2K   \u001b[90m━━━━━━━━━━━━━━━━━━━━━━━━━━━━━━━━━━━━━━━━\u001b[0m \u001b[32m153.3/153.3 kB\u001b[0m \u001b[31m6.4 MB/s\u001b[0m eta \u001b[36m0:00:00\u001b[0m\n",
            "\u001b[2K   \u001b[90m━━━━━━━━━━━━━━━━━━━━━━━━━━━━━━━━━━━━━━━━\u001b[0m \u001b[32m43.9/43.9 kB\u001b[0m \u001b[31m4.0 MB/s\u001b[0m eta \u001b[36m0:00:00\u001b[0m\n",
            "\u001b[2K   \u001b[90m━━━━━━━━━━━━━━━━━━━━━━━━━━━━━━━━━━━━━━━━\u001b[0m \u001b[32m54.6/54.6 kB\u001b[0m \u001b[31m5.0 MB/s\u001b[0m eta \u001b[36m0:00:00\u001b[0m\n",
            "\u001b[2K   \u001b[90m━━━━━━━━━━━━━━━━━━━━━━━━━━━━━━━━━━━━━━━━\u001b[0m \u001b[32m216.7/216.7 kB\u001b[0m \u001b[31m12.0 MB/s\u001b[0m eta \u001b[36m0:00:00\u001b[0m\n",
            "\u001b[?25h"
          ]
        }
      ]
    },
    {
      "cell_type": "markdown",
      "source": [],
      "metadata": {
        "id": "Wpxlj7c2MhR_"
      }
    },
    {
      "cell_type": "code",
      "execution_count": 45,
      "metadata": {
        "id": "ABnGOl-QDH4k"
      },
      "outputs": [],
      "source": [
        "from langchain_community.chat_models import ChatOpenAI\n",
        "from langchain.agents import initialize_agent, AgentType\n",
        "from langchain_core.tools import tool\n",
        "import requests\n",
        "from langchain_core.messages import HumanMessage\n",
        "from langchain_core.tools import InjectedToolArg\n",
        "from typing import Annotated"
      ]
    },
    {
      "cell_type": "code",
      "source": [
        "@tool\n",
        "def get_conversion_factor(base_currency : str, target_currency : str) -> float:\n",
        "    \"\"\"This function fetches the currency conversion factor between\n",
        "    given base currency & target currency\"\"\"\n",
        "\n",
        "    url = f\"https://v6.exchangerate-api.com/v6/02cd6e6a6bd5ef0cd3b8b39b/pair/{base_currency}/{target_currency}\"\n",
        "\n",
        "    response = requests.get(url)\n",
        "\n",
        "    return response.json()['conversion_rate']\n",
        "\n",
        "\n",
        "@tool\n",
        "def convert(base_currency_value : int, conversion_rate : Annotated[float, InjectedToolArg]) -> float:\n",
        "    \"\"\"Given a currency conversion rate and base currency, this function calculates the target currency value\"\"\"\n",
        "    return base_currency_value * conversion_rate\n",
        "\n"
      ],
      "metadata": {
        "id": "3x--hI60DQk3"
      },
      "execution_count": 46,
      "outputs": []
    },
    {
      "cell_type": "code",
      "source": [
        "rate = get_conversion_factor.invoke({\"base_currency\" : \"USD\", \"target_currency\" : \"BDT\"})"
      ],
      "metadata": {
        "id": "FmA7eQWxE7ve"
      },
      "execution_count": 47,
      "outputs": []
    },
    {
      "cell_type": "code",
      "source": [
        "convert.invoke({\"base_currency_value\" : 50, \"conversion_rate\" : rate})"
      ],
      "metadata": {
        "colab": {
          "base_uri": "https://localhost:8080/"
        },
        "id": "qki1C4D3FSxD",
        "outputId": "ff386c6d-45f6-4de6-e0bc-67dc194fb5e8"
      },
      "execution_count": 48,
      "outputs": [
        {
          "output_type": "execute_result",
          "data": {
            "text/plain": [
              "6084.81"
            ]
          },
          "metadata": {},
          "execution_count": 48
        }
      ]
    },
    {
      "cell_type": "code",
      "source": [
        "llm = ChatOpenAI()"
      ],
      "metadata": {
        "id": "1tQXQhTyMj24"
      },
      "execution_count": null,
      "outputs": []
    },
    {
      "cell_type": "code",
      "source": [
        "llm_with_tools = llm.bind_tools([get_conversion_factor, convert])"
      ],
      "metadata": {
        "id": "rAjSsf_7JPQs"
      },
      "execution_count": 21,
      "outputs": []
    },
    {
      "cell_type": "code",
      "source": [
        "message = [HumanMessage(\"what is the conversion rate of USD to BDT, and can you convert 50 USD to BDT\")]"
      ],
      "metadata": {
        "id": "ON5A2Oy-LC6K"
      },
      "execution_count": 43,
      "outputs": []
    },
    {
      "cell_type": "code",
      "source": [
        "llm_with_tools.invoke(message)"
      ],
      "metadata": {
        "id": "uSYLuPLWMgsf"
      },
      "execution_count": null,
      "outputs": []
    },
    {
      "cell_type": "code",
      "source": [
        "llm_with_tools.invoke(message).tool_calls"
      ],
      "metadata": {
        "id": "Zktm1A68Moqp"
      },
      "execution_count": null,
      "outputs": []
    },
    {
      "cell_type": "code",
      "source": [
        "ai_message = llm_with_tools.invoke(message)"
      ],
      "metadata": {
        "id": "6xfCJvuXMu7I"
      },
      "execution_count": null,
      "outputs": []
    },
    {
      "cell_type": "code",
      "source": [
        "message.append(ai_message)"
      ],
      "metadata": {
        "id": "j_VxXttoSkki"
      },
      "execution_count": null,
      "outputs": []
    },
    {
      "cell_type": "code",
      "source": [
        "import json\n",
        "\n",
        "for tool_call in ai_message.tool_calls:\n",
        "    if tool_call['name'] == \"get_conversion_factor\":\n",
        "        tool_message1 = get_conversion_factor.invoke(tool_call)\n",
        "\n",
        "        conve_rate = json.load(tool_message1.content)['conversion_rate']\n",
        "        message.append(tool_message1)\n",
        "\n",
        "    if tool_call['name'] == \"convert\":\n",
        "        tool_call['args']['conversion_rate']= conve_rate\n",
        "\n",
        "        tool_message2 = convert.invoke(tool_call)\n",
        "        message.append(tool_message2)\n"
      ],
      "metadata": {
        "id": "OkoKvCsqOSqs"
      },
      "execution_count": null,
      "outputs": []
    },
    {
      "cell_type": "code",
      "source": [
        "message"
      ],
      "metadata": {
        "id": "vDcU-cAgR_-f"
      },
      "execution_count": null,
      "outputs": []
    },
    {
      "cell_type": "code",
      "source": [
        "llm_with_tools.invoke(message)"
      ],
      "metadata": {
        "id": "DmmRXV_QTI32"
      },
      "execution_count": null,
      "outputs": []
    }
  ]
}